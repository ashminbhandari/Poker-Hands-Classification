{
 "cells": [
  {
   "cell_type": "code",
   "execution_count": 28,
   "metadata": {
    "collapsed": true
   },
   "outputs": [],
   "source": [
    "#Setting up for confusion matrix print-outs\n",
    "%matplotlib inline\n",
    "import matplotlib.pyplot as plt\n",
    "import seaborn as sns\n",
    "\n",
    "def print_confusion_matrix(confusion_matrix,class_names,figsize=(5,3),fontsize=10):\n",
    "    df_cm = pd.DataFrame(confusion_matrix, index=class_names, columns=class_names, )\n",
    "    fig = plt.figure(figsize=figsize)\n",
    "    try:\n",
    "        heatmap = sns.heatmap(df_cm, annot=True, fmt=\"d\")\n",
    "    except ValueError:\n",
    "        raise ValueError(\"Confusion matrix values must be integers.\")\n",
    "    heatmap.yaxis.set_ticklabels(heatmap.yaxis.get_ticklabels(), rotation=0, ha='right', fontsize=fontsize)\n",
    "    heatmap.xaxis.set_ticklabels(heatmap.xaxis.get_ticklabels(), rotation=45, ha='right', fontsize=fontsize)\n",
    "    plt.ylabel('True label')\n",
    "    plt.xlabel('Predicted label')\n",
    "    plt.show()\n",
    "    return fig"
   ]
  },
  {
   "cell_type": "code",
   "execution_count": 29,
   "metadata": {
    "collapsed": true
   },
   "outputs": [],
   "source": [
    "#Loading the dataset\n",
    "from __future__ import print_function\n",
    "import os\n",
    "import pandas as pd\n",
    "\n",
    "#Training data\n",
    "dataPath = ['/home/ashmin/Desktop/MachineLearning/Data']\n",
    "filePath = os.sep.join(dataPath + ['poker-hand-training-true.csv'])\n",
    "df = pd.read_csv(filePath, header = 0)\n",
    "\n",
    "#Testing data \n",
    "filePath = os.sep.join(dataPath + ['poker-hand-testing.csv'])\n",
    "df1 = pd.read_csv(filePath, header = 0)\n",
    "\n",
    "#Defining the dataframe columns\n",
    "df.columns = ['S1', 'C1', 'S2', 'C2', 'S3','C3','S4','C4','S5','C5','CLASS']\n",
    "df1.columns = ['S1', 'C1', 'S2', 'C2', 'S3','C3','S4','C4','S5','C5','CLASS']"
   ]
  },
  {
   "cell_type": "code",
   "execution_count": 30,
   "metadata": {
    "collapsed": false
   },
   "outputs": [
    {
     "data": {
      "text/html": [
       "<div>\n",
       "<style scoped>\n",
       "    .dataframe tbody tr th:only-of-type {\n",
       "        vertical-align: middle;\n",
       "    }\n",
       "\n",
       "    .dataframe tbody tr th {\n",
       "        vertical-align: top;\n",
       "    }\n",
       "\n",
       "    .dataframe thead th {\n",
       "        text-align: right;\n",
       "    }\n",
       "</style>\n",
       "<table border=\"1\" class=\"dataframe\">\n",
       "  <thead>\n",
       "    <tr style=\"text-align: right;\">\n",
       "      <th></th>\n",
       "      <th>S1</th>\n",
       "      <th>C1</th>\n",
       "      <th>S2</th>\n",
       "      <th>C2</th>\n",
       "      <th>S3</th>\n",
       "      <th>C3</th>\n",
       "      <th>S4</th>\n",
       "      <th>C4</th>\n",
       "      <th>S5</th>\n",
       "      <th>C5</th>\n",
       "      <th>CLASS</th>\n",
       "    </tr>\n",
       "  </thead>\n",
       "  <tbody>\n",
       "    <tr>\n",
       "      <th>0</th>\n",
       "      <td>2</td>\n",
       "      <td>11</td>\n",
       "      <td>2</td>\n",
       "      <td>13</td>\n",
       "      <td>2</td>\n",
       "      <td>10</td>\n",
       "      <td>2</td>\n",
       "      <td>12</td>\n",
       "      <td>2</td>\n",
       "      <td>1</td>\n",
       "      <td>9</td>\n",
       "    </tr>\n",
       "    <tr>\n",
       "      <th>1</th>\n",
       "      <td>3</td>\n",
       "      <td>12</td>\n",
       "      <td>3</td>\n",
       "      <td>11</td>\n",
       "      <td>3</td>\n",
       "      <td>13</td>\n",
       "      <td>3</td>\n",
       "      <td>10</td>\n",
       "      <td>3</td>\n",
       "      <td>1</td>\n",
       "      <td>9</td>\n",
       "    </tr>\n",
       "    <tr>\n",
       "      <th>2</th>\n",
       "      <td>4</td>\n",
       "      <td>10</td>\n",
       "      <td>4</td>\n",
       "      <td>11</td>\n",
       "      <td>4</td>\n",
       "      <td>1</td>\n",
       "      <td>4</td>\n",
       "      <td>13</td>\n",
       "      <td>4</td>\n",
       "      <td>12</td>\n",
       "      <td>9</td>\n",
       "    </tr>\n",
       "    <tr>\n",
       "      <th>3</th>\n",
       "      <td>4</td>\n",
       "      <td>1</td>\n",
       "      <td>4</td>\n",
       "      <td>13</td>\n",
       "      <td>4</td>\n",
       "      <td>12</td>\n",
       "      <td>4</td>\n",
       "      <td>11</td>\n",
       "      <td>4</td>\n",
       "      <td>10</td>\n",
       "      <td>9</td>\n",
       "    </tr>\n",
       "    <tr>\n",
       "      <th>4</th>\n",
       "      <td>1</td>\n",
       "      <td>2</td>\n",
       "      <td>1</td>\n",
       "      <td>4</td>\n",
       "      <td>1</td>\n",
       "      <td>5</td>\n",
       "      <td>1</td>\n",
       "      <td>3</td>\n",
       "      <td>1</td>\n",
       "      <td>6</td>\n",
       "      <td>8</td>\n",
       "    </tr>\n",
       "  </tbody>\n",
       "</table>\n",
       "</div>"
      ],
      "text/plain": [
       "   S1  C1  S2  C2  S3  C3  S4  C4  S5  C5  CLASS\n",
       "0   2  11   2  13   2  10   2  12   2   1      9\n",
       "1   3  12   3  11   3  13   3  10   3   1      9\n",
       "2   4  10   4  11   4   1   4  13   4  12      9\n",
       "3   4   1   4  13   4  12   4  11   4  10      9\n",
       "4   1   2   1   4   1   5   1   3   1   6      8"
      ]
     },
     "execution_count": 30,
     "metadata": {},
     "output_type": "execute_result"
    }
   ],
   "source": [
    "df.head(5)"
   ]
  },
  {
   "cell_type": "code",
   "execution_count": 31,
   "metadata": {
    "collapsed": false
   },
   "outputs": [
    {
     "data": {
      "text/html": [
       "<div>\n",
       "<style scoped>\n",
       "    .dataframe tbody tr th:only-of-type {\n",
       "        vertical-align: middle;\n",
       "    }\n",
       "\n",
       "    .dataframe tbody tr th {\n",
       "        vertical-align: top;\n",
       "    }\n",
       "\n",
       "    .dataframe thead th {\n",
       "        text-align: right;\n",
       "    }\n",
       "</style>\n",
       "<table border=\"1\" class=\"dataframe\">\n",
       "  <thead>\n",
       "    <tr style=\"text-align: right;\">\n",
       "      <th></th>\n",
       "      <th>S1</th>\n",
       "      <th>C1</th>\n",
       "      <th>S2</th>\n",
       "      <th>C2</th>\n",
       "      <th>S3</th>\n",
       "      <th>C3</th>\n",
       "      <th>S4</th>\n",
       "      <th>C4</th>\n",
       "      <th>S5</th>\n",
       "      <th>C5</th>\n",
       "      <th>CLASS</th>\n",
       "    </tr>\n",
       "  </thead>\n",
       "  <tbody>\n",
       "    <tr>\n",
       "      <th>0</th>\n",
       "      <td>3</td>\n",
       "      <td>12</td>\n",
       "      <td>3</td>\n",
       "      <td>2</td>\n",
       "      <td>3</td>\n",
       "      <td>11</td>\n",
       "      <td>4</td>\n",
       "      <td>5</td>\n",
       "      <td>2</td>\n",
       "      <td>5</td>\n",
       "      <td>1</td>\n",
       "    </tr>\n",
       "    <tr>\n",
       "      <th>1</th>\n",
       "      <td>1</td>\n",
       "      <td>9</td>\n",
       "      <td>4</td>\n",
       "      <td>6</td>\n",
       "      <td>1</td>\n",
       "      <td>4</td>\n",
       "      <td>3</td>\n",
       "      <td>2</td>\n",
       "      <td>3</td>\n",
       "      <td>9</td>\n",
       "      <td>1</td>\n",
       "    </tr>\n",
       "    <tr>\n",
       "      <th>2</th>\n",
       "      <td>1</td>\n",
       "      <td>4</td>\n",
       "      <td>3</td>\n",
       "      <td>13</td>\n",
       "      <td>2</td>\n",
       "      <td>13</td>\n",
       "      <td>2</td>\n",
       "      <td>1</td>\n",
       "      <td>3</td>\n",
       "      <td>6</td>\n",
       "      <td>1</td>\n",
       "    </tr>\n",
       "    <tr>\n",
       "      <th>3</th>\n",
       "      <td>3</td>\n",
       "      <td>10</td>\n",
       "      <td>2</td>\n",
       "      <td>7</td>\n",
       "      <td>1</td>\n",
       "      <td>2</td>\n",
       "      <td>2</td>\n",
       "      <td>11</td>\n",
       "      <td>4</td>\n",
       "      <td>9</td>\n",
       "      <td>0</td>\n",
       "    </tr>\n",
       "    <tr>\n",
       "      <th>4</th>\n",
       "      <td>1</td>\n",
       "      <td>3</td>\n",
       "      <td>4</td>\n",
       "      <td>5</td>\n",
       "      <td>3</td>\n",
       "      <td>4</td>\n",
       "      <td>1</td>\n",
       "      <td>12</td>\n",
       "      <td>4</td>\n",
       "      <td>6</td>\n",
       "      <td>0</td>\n",
       "    </tr>\n",
       "  </tbody>\n",
       "</table>\n",
       "</div>"
      ],
      "text/plain": [
       "   S1  C1  S2  C2  S3  C3  S4  C4  S5  C5  CLASS\n",
       "0   3  12   3   2   3  11   4   5   2   5      1\n",
       "1   1   9   4   6   1   4   3   2   3   9      1\n",
       "2   1   4   3  13   2  13   2   1   3   6      1\n",
       "3   3  10   2   7   1   2   2  11   4   9      0\n",
       "4   1   3   4   5   3   4   1  12   4   6      0"
      ]
     },
     "execution_count": 31,
     "metadata": {},
     "output_type": "execute_result"
    }
   ],
   "source": [
    "df1.head(5)"
   ]
  },
  {
   "cell_type": "code",
   "execution_count": 32,
   "metadata": {
    "collapsed": false
   },
   "outputs": [
    {
     "name": "stdout",
     "output_type": "stream",
     "text": [
      "Training dataset shape:  (999999, 10) \n",
      "Testing dataset shape:  (25009, 10)\n"
     ]
    }
   ],
   "source": [
    "#As the testing data provided by UCI has more instances(100,000), we use that for training instead\n",
    "#Setting the train and test data\n",
    "X_train = df1.drop(['CLASS'], axis = 1)\n",
    "y_train = df1.CLASS\n",
    "\n",
    "X_test = df.drop(['CLASS'], axis = 1)\n",
    "y_test = df.CLASS\n",
    "\n",
    "print(\"Training dataset shape: \", X_train.shape, \"\\nTesting dataset shape: \", X_test.shape)"
   ]
  },
  {
   "cell_type": "code",
   "execution_count": 33,
   "metadata": {
    "collapsed": false
   },
   "outputs": [
    {
     "name": "stdout",
     "output_type": "stream",
     "text": [
      "Fitting time for Random Forest (no preprocessing):  47.79 seconds\n"
     ]
    }
   ],
   "source": [
    "#Fitting the random forest classifier without any preprocessing\n",
    "from sklearn.ensemble import RandomForestClassifier\n",
    "from time import time\n",
    "\n",
    "randomForest = RandomForestClassifier(n_estimators=10,random_state=0)\n",
    "\n",
    "#Calculating the predicition time \n",
    "startTime = time()\n",
    "randomForest.fit(X_train, y_train)\n",
    "print(\"Fitting time for Random Forest (no preprocessing): \", round(time()-startTime, 3), \"seconds\")"
   ]
  },
  {
   "cell_type": "code",
   "execution_count": 34,
   "metadata": {
    "collapsed": false
   },
   "outputs": [
    {
     "name": "stdout",
     "output_type": "stream",
     "text": [
      "Prediction time for Random Forest (no preproccessing):  0.251  seconds\n"
     ]
    }
   ],
   "source": [
    "#Making predictions with the model and calculating the accuracy score\n",
    "from sklearn.metrics import accuracy_score\n",
    "\n",
    "#Calculating the prediction time \n",
    "startTime = time()\n",
    "predictions = randomForest.predict(X_test)\n",
    "print(\"Prediction time for Random Forest (no preproccessing): \", round(time()-startTime, 3), \" seconds\")"
   ]
  },
  {
   "cell_type": "code",
   "execution_count": 35,
   "metadata": {
    "collapsed": false
   },
   "outputs": [
    {
     "data": {
      "image/png": "[encoded data removed]",
      "text/plain": [
       "<Figure size 432x288 with 1 Axes>"
      ]
     },
     "metadata": {
      "needs_background": "light"
     },
     "output_type": "display_data"
    }
   ],
   "source": [
    "#Check what classes the model is predicting \n",
    "import matplotlib.pyplot as plt\n",
    "import numpy as np\n",
    "plt.hist((np.reshape(predictions,(y_test.shape[0],)),y_test),bins=[0,1,2,3,4,5,6,7,8,9,10],log=True)\n",
    "plt.legend(labels=('Predictions','Test data'))\n",
    "plt.show() \n",
    "\n"
   ]
  },
  {
   "cell_type": "code",
   "execution_count": 36,
   "metadata": {
    "collapsed": false
   },
   "outputs": [
    {
     "name": "stdout",
     "output_type": "stream",
     "text": [
      "Cross-validation score: \n"
     ]
    },
    {
     "name": "stderr",
     "output_type": "stream",
     "text": [
      "/home/ashmin/.local/lib/python3.6/site-packages/sklearn/model_selection/_split.py:2053: FutureWarning: You should specify a value for 'cv' instead of relying on the default value. The default value will change from 3 to 5 in version 0.22.\n",
      "  warnings.warn(CV_WARNING, FutureWarning)\n"
     ]
    },
    {
     "name": "stdout",
     "output_type": "stream",
     "text": [
      "[0.68617251 0.67513268 0.6896259 ]\n",
      "Confusion matrix: \n",
      "[[429314  71736    111     21     14     12      0      0      0      0]\n",
      " [170509 248571   2928    375    109      2      4      0      0      0]\n",
      " [  6261  37919   3225    194     12      0     10      1      0      0]\n",
      " [  2221  16117    539   2218      8      0     17      1      0      0]\n",
      " [   845   2919     34      3     84      0      0      0      0      0]\n",
      " [  1627    160      0      0      0    209      0      0      0      0]\n",
      " [    38    972    259    134      0      0     21      0      0      0]\n",
      " [     7    106     36     78      0      0      2      1      0      0]\n",
      " [     4      8      0      0      0      0      0      0      0      0]\n",
      " [     1      2      0      0      0      0      0      0      0      0]]\n"
     ]
    },
    {
     "data": {
      "image/png": "[encoded data removed]",
      "text/plain": [
       "<Figure size 360x216 with 2 Axes>"
      ]
     },
     "metadata": {
      "needs_background": "light"
     },
     "output_type": "display_data"
    },
    {
     "name": "stdout",
     "output_type": "stream",
     "text": [
      "Precision score: \n",
      "0.6836436836436837\n",
      "Recall score: \n",
      "0.6836436836436837\n",
      "F1 score: \n",
      "0.6836436836436837\n"
     ]
    }
   ],
   "source": [
    "#Evaluation metrics for Random Forest (no preprocessing)\n",
    "from sklearn.model_selection import cross_val_score, cross_val_predict\n",
    "from sklearn.metrics import confusion_matrix, precision_score, recall_score, f1_score\n",
    "\n",
    "#Names of the classes\n",
    "classNames = [\"Nothing\", \"One pair\", \"Two pairs\", \"Three of a kind\", \"Straight\", \"Flush\", \"Full house\", \"Four of a kind\", \"Straight flush\", \"Royal flush\"] \n",
    "\n",
    "#Cross-validation score\n",
    "print(\"Cross-validation score: \")\n",
    "print(cross_val_score(randomForest, X_train, y_train, scoring=\"accuracy\"))\n",
    "\n",
    "#Cross_validation predictions\n",
    "predictions = cross_val_predict(randomForest, X_train, y_train, cv=3)\n",
    "\n",
    "#Confusion matrix\n",
    "print(\"Confusion matrix: \")\n",
    "print(confusion_matrix(y_train, predictions))\n",
    "\n",
    "#A better figure representation of the confusion matrix\n",
    "print_confusion_matrix(confusion_matrix(y_train, predictions), classNames)\n",
    "\n",
    "#Precision\n",
    "print(\"Precision score: \")\n",
    "print(precision_score(y_train, predictions, average='micro'))\n",
    "\n",
    "#Recall score\n",
    "print(\"Recall score: \")\n",
    "print(recall_score(y_train, predictions, average='micro')) \n",
    "\n",
    "#F1 score\n",
    "print(\"F1 score: \")\n",
    "print(f1_score(y_train, predictions, average='micro'))"
   ]
  },
  {
   "cell_type": "code",
   "execution_count": 37,
   "metadata": {
    "collapsed": false
   },
   "outputs": [
    {
     "name": "stdout",
     "output_type": "stream",
     "text": [
      "The log loss:  1.2519889782979603\n"
     ]
    }
   ],
   "source": [
    "#Calculate the log loss\n",
    "from sklearn.metrics import log_loss\n",
    "logLoss = log_loss(y_test, randomForest.predict_proba(X_test))\n",
    "print(\"The log loss: \", logLoss)\n",
    "\n",
    "#HUGE LOGLOSS\n",
    "#Inference: The model slowly stops predicting; lack of training instances may be a problem"
   ]
  },
  {
   "cell_type": "code",
   "execution_count": 41,
   "metadata": {
    "collapsed": false
   },
   "outputs": [],
   "source": [
    "#Concatenate the two datasets\n",
    "concatDF = pd.concat([df, df1])\n",
    "concatDF.shape\n",
    "\n",
    "#Defining the dataframe columns\n",
    "concatDF.columns = ['S1', 'C1', 'S2', 'C2', 'S3','C3','S4','C4','S5','C5','CLASS']"
   ]
  },
  {
   "cell_type": "code",
   "execution_count": 42,
   "metadata": {
    "collapsed": false
   },
   "outputs": [],
   "source": [
    "#Try train_test_split\n",
    "from sklearn.model_selection import train_test_split\n",
    "y = concatDF.CLASS\n",
    "X_train, X_test, y_train, y_test = train_test_split(concatDF, y, test_size = 0.1)"
   ]
  },
  {
   "cell_type": "code",
   "execution_count": 43,
   "metadata": {
    "collapsed": false
   },
   "outputs": [
    {
     "name": "stdout",
     "output_type": "stream",
     "text": [
      "Training time for Random Forest:  18.9  seconds\n",
      "Prediction time for Random Forest:  0.155  seconds\n",
      "Accuracy score after train test split (Random Forest):  0.9996487839143032\n"
     ]
    }
   ],
   "source": [
    "#Fit the model again, make predictions, calculate accuracy\n",
    "\n",
    "#Calculate training time \n",
    "startTime = time()\n",
    "randomForest.fit(X_train, y_train)\n",
    "print(\"Training time for Random Forest: \", round(time()-startTime, 3), \" seconds\")\n",
    "\n",
    "#Calculate prediction time \n",
    "startTime = time()\n",
    "predictions = randomForest.predict(X_test)\n",
    "print(\"Prediction time for Random Forest: \", round(time()-startTime, 3), \" seconds\")\n",
    "\n",
    "#Accuracy score\n",
    "accuracyScore = accuracy_score(y_test, predictions)\n",
    "print(\"Accuracy score after train test split (Random Forest): \", accuracyScore)"
   ]
  },
  {
   "cell_type": "code",
   "execution_count": 44,
   "metadata": {
    "collapsed": false
   },
   "outputs": [
    {
     "name": "stdout",
     "output_type": "stream",
     "text": [
      "Cross-validation score: \n"
     ]
    },
    {
     "name": "stderr",
     "output_type": "stream",
     "text": [
      "/home/ashmin/.local/lib/python3.6/site-packages/sklearn/model_selection/_split.py:2053: FutureWarning: You should specify a value for 'cv' instead of relying on the default value. The default value will change from 3 to 5 in version 0.22.\n",
      "  warnings.warn(CV_WARNING, FutureWarning)\n"
     ]
    },
    {
     "name": "stdout",
     "output_type": "stream",
     "text": [
      "[0.99939188 0.99953496 0.99948943]\n",
      "Confusion matrix: \n",
      "[[462345      0      0      0      0      0      0      0      0      0]\n",
      " [     0 389776      0      0      0      0      0      0      0      0]\n",
      " [     0      0  43914      0      0      0      0      0      0      0]\n",
      " [     0      0      5  19501      0      0      0      0      0      0]\n",
      " [     0      1      6     39   3523      0      1      0      0      0]\n",
      " [     0      0      0      1      2   1843      0      0      0      0]\n",
      " [     0      1     19    181     55      4   1047      4      0      0]\n",
      " [     0      0      1     56     16      1     72     69      0      0]\n",
      " [     0      0      0      0      4      8      3      0      2      0]\n",
      " [     0      0      0      0      3      3      0      0      1      0]]\n"
     ]
    },
    {
     "data": {
      "image/png": "[encoded data removed]",
      "text/plain": [
       "<Figure size 360x216 with 2 Axes>"
      ]
     },
     "metadata": {
      "needs_background": "light"
     },
     "output_type": "display_data"
    },
    {
     "name": "stdout",
     "output_type": "stream",
     "text": [
      "Precision score: \n",
      "0.9994720907266829\n",
      "Recall score: \n",
      "0.9994720907266829\n",
      "F1 score: \n",
      "0.9994720907266829\n"
     ]
    }
   ],
   "source": [
    "#Cross-validation score\n",
    "print(\"Cross-validation score: \")\n",
    "print(cross_val_score(randomForest, X_train, y_train, scoring=\"accuracy\"))\n",
    "\n",
    "#Cross_validation predictions\n",
    "predictions = cross_val_predict(randomForest, X_train, y_train, cv=3)\n",
    "\n",
    "#Confusion matrix\n",
    "print(\"Confusion matrix: \")\n",
    "print(confusion_matrix(y_train, predictions))\n",
    "\n",
    "#A better figure representation of the confusion matrix\n",
    "print_confusion_matrix(confusion_matrix(y_train, predictions), classNames)\n",
    "\n",
    "#Precision\n",
    "print(\"Precision score: \")\n",
    "print(precision_score(y_train, predictions, average='micro'))\n",
    "\n",
    "#Recall score\n",
    "print(\"Recall score: \")\n",
    "print(recall_score(y_train, predictions, average='micro')) \n",
    "\n",
    "#F1 score\n",
    "print(\"F1 score: \")\n",
    "print(f1_score(y_train, predictions, average='micro'))"
   ]
  },
  {
   "cell_type": "code",
   "execution_count": 45,
   "metadata": {
    "collapsed": false
   },
   "outputs": [
    {
     "name": "stdout",
     "output_type": "stream",
     "text": [
      "Training time for KNN:  68.261  seconds\n",
      "Prediction time for KNN:  166.691  seconds\n"
     ]
    }
   ],
   "source": [
    "#The best preprocessing steps for this dataset: concatenation of the two datasets and applying 90 to 10 split\n",
    "from sklearn.neighbors import KNeighborsClassifier\n",
    "\n",
    "knn = KNeighborsClassifier()\n",
    "\n",
    "#Fit and calculate the training time \n",
    "startTime=time() \n",
    "knn.fit(X_train, y_train)\n",
    "print(\"Training time for KNN: \", round(time()-startTime, 3), \" seconds\")\n",
    "\n",
    "#Predict and calculate the prediction time\n",
    "startTime=time()\n",
    "predictions = knn.predict(X_test)\n",
    "print(\"Prediction time for KNN: \", round(time()-startTime, 3), \" seconds\")"
   ]
  },
  {
   "cell_type": "code",
   "execution_count": 48,
   "metadata": {
    "collapsed": false
   },
   "outputs": [
    {
     "name": "stdout",
     "output_type": "stream",
     "text": [
      "Cross-validation score: \n"
     ]
    },
    {
     "name": "stderr",
     "output_type": "stream",
     "text": [
      "/home/ashmin/.local/lib/python3.6/site-packages/sklearn/model_selection/_split.py:2053: FutureWarning: You should specify a value for 'cv' instead of relying on the default value. The default value will change from 3 to 5 in version 0.22.\n",
      "  warnings.warn(CV_WARNING, FutureWarning)\n"
     ]
    },
    {
     "name": "stdout",
     "output_type": "stream",
     "text": [
      "[0.85451944 0.85511964 0.85804553]\n",
      "Confusion matrix: \n",
      "[[435737  26608      0      0      0      0      0      0      0      0]\n",
      " [ 64583 324603    590      0      0      0      0      0      0      0]\n",
      " [    18  30610  12974    312      0      0      0      0      0      0]\n",
      " [     0   3607   4307  11523     69      0      0      0      0      0]\n",
      " [     0      0    234    975   2360      1      0      0      0      0]\n",
      " [     0      1     56    197    102   1483      7      0      0      0]\n",
      " [     0      0      2    194    206     67    835      7      0      0]\n",
      " [     0      0      0     49      2      9    101     54      0      0]\n",
      " [     0      0      0      0      0      2     15      0      0      0]\n",
      " [     0      0      0      0      3      1      0      3      0      0]]\n"
     ]
    },
    {
     "data": {
      "image/png": "[encoded data removed]",
      "text/plain": [
       "<Figure size 360x216 with 2 Axes>"
      ]
     },
     "metadata": {
      "needs_background": "light"
     },
     "output_type": "display_data"
    },
    {
     "name": "stdout",
     "output_type": "stream",
     "text": [
      "Precision score: \n",
      "0.8558948604184033\n",
      "Recall score: \n",
      "0.8558948604184033\n",
      "F1 score: \n",
      "0.8558948604184033\n"
     ]
    }
   ],
   "source": [
    "#Cross-validation score\n",
    "print(\"Cross-validation score: \")\n",
    "print(cross_val_score(knn, X_train, y_train, scoring=\"accuracy\"))\n",
    "\n",
    "#Cross_validation predictions\n",
    "predictions = cross_val_predict(knn, X_train, y_train, cv=3)\n",
    "\n",
    "#Confusion matrix\n",
    "print(\"Confusion matrix: \")\n",
    "print(confusion_matrix(y_train, predictions))\n",
    "\n",
    "#A better figure representation of the confusion matrix\n",
    "print_confusion_matrix(confusion_matrix(y_train, predictions), classNames)\n",
    "\n",
    "#Precision\n",
    "print(\"Precision score: \")\n",
    "print(precision_score(y_train, predictions, average='micro'))\n",
    "\n",
    "#Recall score\n",
    "print(\"Recall score: \")\n",
    "print(recall_score(y_train, predictions, average='micro')) \n",
    "\n",
    "#F1 score\n",
    "print(\"F1 score: \")\n",
    "print(f1_score(y_train, predictions, average='micro'))"
   ]
  },
  {
   "cell_type": "code",
   "execution_count": 49,
   "metadata": {
    "collapsed": false
   },
   "outputs": [
    {
     "name": "stderr",
     "output_type": "stream",
     "text": [
      "/home/ashmin/.local/lib/python3.6/site-packages/sklearn/linear_model/stochastic_gradient.py:166: FutureWarning: max_iter and tol parameters have been added in SGDClassifier in 0.19. If both are left unset, they default to max_iter=5 and tol=None. If tol is not None, max_iter defaults to max_iter=1000. From 0.21, default max_iter will be 1000, and default tol will be 1e-3.\n",
      "  FutureWarning)\n"
     ]
    },
    {
     "name": "stdout",
     "output_type": "stream",
     "text": [
      "Training time for SGDClassifier:  8.941  seconds\n",
      "Prediction time for SGDClassifier:  0.05  seconds\n"
     ]
    }
   ],
   "source": [
    "#Trying out SGDClassifier\n",
    "from sklearn.linear_model import SGDClassifier\n",
    "SGD = SGDClassifier()\n",
    "\n",
    "#Calculating fitting time\n",
    "startTime = time()\n",
    "SGD.fit(X_train, y_train)\n",
    "print(\"Training time for SGDClassifier: \", round(time()-startTime, 3), \" seconds\")\n",
    "\n",
    "#Making predictions and calculating the prediction time \n",
    "startTime = time()\n",
    "predictions = SGD.predict(X_test)\n",
    "print(\"Prediction time for SGDClassifier: \", round(time()-startTime, 3), \" seconds\")"
   ]
  },
  {
   "cell_type": "code",
   "execution_count": 51,
   "metadata": {
    "collapsed": false
   },
   "outputs": [
    {
     "name": "stdout",
     "output_type": "stream",
     "text": [
      "Cross-validation score: \n"
     ]
    },
    {
     "name": "stderr",
     "output_type": "stream",
     "text": [
      "/home/ashmin/.local/lib/python3.6/site-packages/sklearn/model_selection/_split.py:2053: FutureWarning: You should specify a value for 'cv' instead of relying on the default value. The default value will change from 3 to 5 in version 0.22.\n",
      "  warnings.warn(CV_WARNING, FutureWarning)\n",
      "/home/ashmin/.local/lib/python3.6/site-packages/sklearn/linear_model/stochastic_gradient.py:166: FutureWarning: max_iter and tol parameters have been added in SGDClassifier in 0.19. If both are left unset, they default to max_iter=5 and tol=None. If tol is not None, max_iter defaults to max_iter=1000. From 0.21, default max_iter will be 1000, and default tol will be 1e-3.\n",
      "  FutureWarning)\n",
      "/home/ashmin/.local/lib/python3.6/site-packages/sklearn/linear_model/stochastic_gradient.py:166: FutureWarning: max_iter and tol parameters have been added in SGDClassifier in 0.19. If both are left unset, they default to max_iter=5 and tol=None. If tol is not None, max_iter defaults to max_iter=1000. From 0.21, default max_iter will be 1000, and default tol will be 1e-3.\n",
      "  FutureWarning)\n",
      "/home/ashmin/.local/lib/python3.6/site-packages/sklearn/linear_model/stochastic_gradient.py:166: FutureWarning: max_iter and tol parameters have been added in SGDClassifier in 0.19. If both are left unset, they default to max_iter=5 and tol=None. If tol is not None, max_iter defaults to max_iter=1000. From 0.21, default max_iter will be 1000, and default tol will be 1e-3.\n",
      "  FutureWarning)\n"
     ]
    },
    {
     "name": "stdout",
     "output_type": "stream",
     "text": [
      "[0.92369555 0.92370131 0.92370732]\n"
     ]
    },
    {
     "name": "stderr",
     "output_type": "stream",
     "text": [
      "/home/ashmin/.local/lib/python3.6/site-packages/sklearn/linear_model/stochastic_gradient.py:166: FutureWarning: max_iter and tol parameters have been added in SGDClassifier in 0.19. If both are left unset, they default to max_iter=5 and tol=None. If tol is not None, max_iter defaults to max_iter=1000. From 0.21, default max_iter will be 1000, and default tol will be 1e-3.\n",
      "  FutureWarning)\n",
      "/home/ashmin/.local/lib/python3.6/site-packages/sklearn/linear_model/stochastic_gradient.py:166: FutureWarning: max_iter and tol parameters have been added in SGDClassifier in 0.19. If both are left unset, they default to max_iter=5 and tol=None. If tol is not None, max_iter defaults to max_iter=1000. From 0.21, default max_iter will be 1000, and default tol will be 1e-3.\n",
      "  FutureWarning)\n",
      "/home/ashmin/.local/lib/python3.6/site-packages/sklearn/linear_model/stochastic_gradient.py:166: FutureWarning: max_iter and tol parameters have been added in SGDClassifier in 0.19. If both are left unset, they default to max_iter=5 and tol=None. If tol is not None, max_iter defaults to max_iter=1000. From 0.21, default max_iter will be 1000, and default tol will be 1e-3.\n",
      "  FutureWarning)\n"
     ]
    },
    {
     "name": "stdout",
     "output_type": "stream",
     "text": [
      "Confusion matrix: \n",
      "[[462345      0      0      0      0      0      0      0      0      0]\n",
      " [     0 389776      0      0      0      0      0      0      0      0]\n",
      " [     0  43914      0      0      0      0      0      0      0      0]\n",
      " [     0  19506      0      0      0      0      0      0      0      0]\n",
      " [     0   3570      0      0      0      0      0      0      0      0]\n",
      " [     0   1846      0      0      0      0      0      0      0      0]\n",
      " [     0   1311      0      0      0      0      0      0      0      0]\n",
      " [     0    215      0      0      0      0      0      0      0      0]\n",
      " [     0     17      0      0      0      0      0      0      0      0]\n",
      " [     0      7      0      0      0      0      0      0      0      0]]\n"
     ]
    },
    {
     "data": {
      "image/png": "[encoded data removed]",
      "text/plain": [
       "<Figure size 360x216 with 2 Axes>"
      ]
     },
     "metadata": {
      "needs_background": "light"
     },
     "output_type": "display_data"
    },
    {
     "name": "stdout",
     "output_type": "stream",
     "text": [
      "Precision score: \n",
      "0.9237013919677575\n",
      "Recall score: \n",
      "0.9237013919677575\n",
      "F1 score: \n",
      "0.9237013919677575\n"
     ]
    }
   ],
   "source": [
    "#Cross-validation score\n",
    "print(\"Cross-validation score: \")\n",
    "print(cross_val_score(SGD, X_train, y_train, scoring=\"accuracy\"))\n",
    "\n",
    "#Cross_validation predictions\n",
    "predictions = cross_val_predict(SGD, X_train, y_train, cv=3)\n",
    "\n",
    "#Confusion matrix\n",
    "print(\"Confusion matrix: \")\n",
    "print(confusion_matrix(y_train, predictions))\n",
    "\n",
    "#A better figure representation of the confusion matrix\n",
    "print_confusion_matrix(confusion_matrix(y_train, predictions), classNames)\n",
    "\n",
    "#Precision\n",
    "print(\"Precision score: \")\n",
    "print(precision_score(y_train, predictions, average='micro'))\n",
    "\n",
    "#Recall score\n",
    "print(\"Recall score: \")\n",
    "print(recall_score(y_train, predictions, average='micro')) \n",
    "\n",
    "#F1 score\n",
    "print(\"F1 score: \")\n",
    "print(f1_score(y_train, predictions, average='micro'))"
   ]
  },
  {
   "cell_type": "code",
   "execution_count": 106,
   "metadata": {
    "collapsed": false
   },
   "outputs": [
    {
     "name": "stdout",
     "output_type": "stream",
     "text": [
      "Starting the estimator... 9\n",
      "The first layer.\n",
      "The hidden layer.\n",
      "The output layer.\n",
      "Epoch 1/5\n",
      "922507/922507 [==============================] - 33s 36us/step - loss: 0.0921 - acc: 0.9595\n",
      "Epoch 2/5\n",
      "922507/922507 [==============================] - 30s 32us/step - loss: 0.0113 - acc: 0.9958\n",
      "Epoch 3/5\n",
      "922507/922507 [==============================] - 29s 31us/step - loss: 0.0068 - acc: 0.9976\n",
      "Epoch 4/5\n",
      "922507/922507 [==============================] - 28s 31us/step - loss: 0.0051 - acc: 0.9982\n",
      "Epoch 5/5\n",
      "922507/922507 [==============================] - 28s 31us/step - loss: 0.0045 - acc: 0.9985\n",
      "Time for creation and fitting:  148.989  seconds\n"
     ]
    }
   ],
   "source": [
    "from tensorflow.python.keras.layers import Dense,Dropout\n",
    "from tensorflow.python.keras.models import Sequential\n",
    "\n",
    "def createModel():\n",
    "    model = Sequential()\n",
    "    model.add(Dense(10, input_dim=11, kernel_initializer='normal', activation='relu'))\n",
    "    print(\"The first layer.\")\n",
    "    \n",
    "    #Hidden layer\n",
    "    model.add(Dense(3, kernel_initializer='normal', activation='relu'))\n",
    "    print(\"The hidden layer.\")\n",
    "    \n",
    "    #Output layer\n",
    "    model.add(Dense(10, kernel_initializer='normal', activation='softmax'))\n",
    "    print(\"The output layer.\")\n",
    "    \n",
    "    # Compiling model\n",
    "    model.compile(optimizer='rmsprop', loss='sparse_categorical_crossentropy', metrics=['accuracy'])\n",
    "    \n",
    "    return model\n",
    "\n",
    "from tensorflow.python.keras.wrappers.scikit_learn import KerasClassifier\n",
    "print(\"Starting the estimator... 9\")\n",
    "\n",
    "#Creation and fitting time measurement\n",
    "startTime = time()\n",
    "kerasModel = createModel()\n",
    "history = kerasModel.fit(X_train, y_train, epochs=5, batch_size=50, verbose=1)\n",
    "print(\"Time for creation and fitting: \", round(time() - startTime, 3), \" seconds\")"
   ]
  },
  {
   "cell_type": "code",
   "execution_count": 107,
   "metadata": {
    "collapsed": false
   },
   "outputs": [],
   "source": [
    "predictions = kerasModel.predict(X_test)\n"
   ]
  },
  {
   "cell_type": "code",
   "execution_count": null,
   "metadata": {
    "collapsed": false
   },
   "outputs": [],
   "source": []
  },
  {
   "cell_type": "code",
   "execution_count": null,
   "metadata": {
    "collapsed": true
   },
   "outputs": [],
   "source": []
  }
 ],
 "metadata": {
  "kernelspec": {
   "display_name": "Python 3",
   "language": "python",
   "name": "python3"
  },
  "language_info": {
   "codemirror_mode": {
    "name": "ipython",
    "version": 3
   },
   "file_extension": ".py",
   "mimetype": "text/x-python",
   "name": "python",
   "nbconvert_exporter": "python",
   "pygments_lexer": "ipython3",
   "version": "3.6.3"
  }
 },
 "nbformat": 4,
 "nbformat_minor": 2
}
